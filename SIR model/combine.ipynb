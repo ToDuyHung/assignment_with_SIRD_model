{
 "cells": [
  {
   "cell_type": "code",
   "execution_count": 1,
   "metadata": {},
   "outputs": [],
   "source": [
    "import pandas as pd\n",
    "import numpy as np\n",
    "import matplotlib.pyplot as plt\n",
    "\n",
    "np.set_printoptions(suppress=True)"
   ]
  },
  {
   "cell_type": "code",
   "execution_count": 45,
   "metadata": {},
   "outputs": [],
   "source": [
    "#Input include: t - end_day; beta - rateSI ; gamma - rateIR\n",
    "#We choose h = 1 => number of interation = (end_day / h) +1\n",
    "#alpha = beta/N\n",
    "class SIR:\n",
    "    def __init__(self, end_day, Suspectible, Infectious, Recovered, rateSI, rateIR):\n",
    "        self.h = 1\n",
    "        self.eons = (end_day / self.h) + 1\n",
    "        self.end_day = end_day \n",
    "        self.Suspectible = Suspectible\n",
    "        self.Infectious = Infectious\n",
    "        self.Recovered = Recovered\n",
    "        self.rateSI = rateSI\n",
    "        self.rateIR = rateIR\n",
    "        self.numIndividuals = Suspectible + Infectious + Recovered\n",
    "        self.results = None\n",
    "        self.modelRun = False\n",
    "\n",
    "    def run(self):\n",
    "        Suspectible = [self.Suspectible]\n",
    "        Infectious = [self.Infectious]\n",
    "        Recovered = [self.Recovered]\n",
    "\n",
    "        for step in range(1, self.eons):\n",
    "            S_to_I = (self.rateSI * Suspectible[-1] * Infectious[-1]) / self.numIndividuals\n",
    "            I_to_R = Infectious[-1] * self.rateIR\n",
    "            if (Suspectible[-1] - self.h*S_to_I <0 ):\n",
    "                Suspectible.append(0)\n",
    "            else:\n",
    "                Suspectible.append(Suspectible[-1] - self.h*S_to_I)\n",
    "            Infectious.append(Infectious[-1] + self.h*(S_to_I - I_to_R))\n",
    "            Recovered.append(Recovered[-1] + self.h*I_to_R)\n",
    "        self.return_value = (Suspectible[-1],Infectious[-1], Recovered[-1])\n",
    "        \n",
    "        self.results = pd.DataFrame.from_dict({'Days':list(range(len(Suspectible))),\n",
    "            'Suspectible':Suspectible, 'Infectious':Infectious, 'Recovered':Recovered},\n",
    "            orient='index').transpose()\n",
    "        self.modelRun = True\n",
    "    \n",
    "    def display(self):\n",
    "        if self.modelRun == False:\n",
    "            print('Error: Model has not run. Please call SIR.run()')\n",
    "            return\n",
    "        w = np.arange(0,self.eons).reshape(self.eons,1)\n",
    "        s = np.array(self.results['Suspectible']).reshape(self.eons,1)\n",
    "        i = np.array(self.results['Infectious']).reshape(self.eons,1)\n",
    "        r = np.array(self.results['Recovered']).reshape(self.eons,1)\n",
    "        print('...Day.......Suspectible.....Infectious...Recovered')\n",
    "        print(np.concatenate((w,s,i,r),axis=1))\n",
    "\n",
    "        "
   ]
  },
  {
   "cell_type": "code",
   "execution_count": 40,
   "metadata": {},
   "outputs": [],
   "source": [
    "class RK4_SIR:\n",
    "    # dt = 1\n",
    "    def __init__(self, end_day, Suspectible, Infectious, Recovered, rateSI, rateIR):\n",
    "        self.dt = 1\n",
    "        self.eons = (end_day / self.dt) + 1\n",
    "        self.end_day = end_day \n",
    "        self.Suspectible = Suspectible\n",
    "        self.Infectious = Infectious\n",
    "        self.Recovered = Recovered\n",
    "        self.rateSI = rateSI\n",
    "        self.rateIR = rateIR\n",
    "        self.numIndividuals = Suspectible + Infectious + Recovered\n",
    "        self.results = None\n",
    "        self.modelRun = False\n",
    "    def dSdt(self, S, I):\n",
    "        return -self.rateSI*S*I/self.numIndividuals\n",
    "\n",
    "    def dIdt(self, S, I):\n",
    "        return self.rateSI*S*I/self.numIndividuals - self.rateIR*I\n",
    "\n",
    "    def dRdt(self, I):\n",
    "        return self.rateIR*I\n",
    "    \n",
    "    def calculate(self):\n",
    "        Suspectible = [self.Suspectible]\n",
    "        Infectious = [self.Infectious]\n",
    "        Recovered = [self.Recovered]\n",
    "\n",
    "        for i in range(1, self.eons):\n",
    "            Si = Suspectible[-1]\n",
    "            Ii = Infectious[-1]\n",
    "        \n",
    "            Sk1 = self.dSdt(Si, Ii)\n",
    "            Ik1 = self.dIdt(Si, Ii)\n",
    "            \n",
    "            Sk2 = self.dSdt(Si + self.dt * Sk1/2 , Ii + self.dt * Ik1/2)\n",
    "            Ik2 = self.dIdt(Si + self.dt * Sk1/2 , Ii + self.dt * Ik1/2)\n",
    "            \n",
    "            Sk3 = self.dSdt(Si + self.dt * Sk2/2 , Ii + self.dt * Ik2/2)\n",
    "            Ik3 = self.dIdt(Si + self.dt * Sk2/2 , Ii + self.dt * Ik2/2)\n",
    "           \n",
    "            Sk4 = self.dSdt(Si + self.dt * Sk3, Ii + self.dt * Ik3)\n",
    "            Ik4 = self.dIdt(Si + self.dt * Sk3, Ii + self.dt * Ik3)\n",
    "           \n",
    "            nextSi = Si + self.dt * (Sk1+2*Sk2+2*Sk3+Sk4)/6\n",
    "            nextIi = Ii + self.dt * (Ik1+2*Ik2+2*Ik3+Ik4)/6\n",
    "            nextRi = self.numIndividuals - nextSi - nextIi\n",
    "            \n",
    "            Suspectible.append(nextSi)\n",
    "            Infectious.append(nextIi)\n",
    "            Recovered.append(nextRi)\n",
    "        \n",
    "        self.return_value = (Suspectible[-1],Infectious[-1], Recovered[-1])\n",
    "        \n",
    "        self.results = pd.DataFrame.from_dict({'Days':list(range(len(Suspectible))),\n",
    "            'Suspectible':Suspectible, 'Infectious':Infectious, 'Recovered':Recovered},\n",
    "            orient='index').transpose()\n",
    "        self.modelRun = True\n",
    "        \n",
    "    def display(self):\n",
    "        if self.modelRun == False:\n",
    "            print('Error: Model has not run. Please call SIR.run()')\n",
    "            return\n",
    "        w = np.arange(0,self.eons).reshape(self.eons,1)\n",
    "        s = np.array(self.results['Suspectible']).reshape(self.eons,1)\n",
    "        i = np.array(self.results['Infectious']).reshape(self.eons,1)\n",
    "        r = np.array(self.results['Recovered']).reshape(self.eons,1)\n",
    "        print('...Day.......Suspectible.....Infectious...Recovered')\n",
    "        print(np.concatenate((w,s,i,r),axis=1))\n",
    "\n",
    "    def plot(self):\n",
    "        if self.modelRun == False:\n",
    "            print('Error: Model has not run. Please call SIR.run()')\n",
    "            return\n",
    "        plt.plot(self.results['Days'], self.results['Suspectible'], color='blue')\n",
    "        plt.plot(self.results['Days'], self.results['Infectious'], color='red')\n",
    "        plt.plot(self.results['Days'], self.results['Recovered'], color='green')\n",
    "        plt.xlabel('Days')\n",
    "        plt.ylabel('Population')\n",
    "        plt.legend(['Suspectible - RK4','Infectious - RK4','Recovered - RK4'], prop={'size': 10}, loc='upper right', fancybox=True, shadow=True)\n",
    "        plt.suptitle(r'$\\beta = {0}, \\gamma = {1}$, day = {2}, S(t_0)= {3}, I(t_0) = {4}'.format(self.rateSI, self.rateIR, self.end_day, Suspectible, Infectious))\n",
    "        plt.savefig('result.png')\n",
    "        #plt.close()"
   ]
  },
  {
   "cell_type": "code",
   "execution_count": 89,
   "metadata": {},
   "outputs": [
    {
     "name": "stdout",
     "output_type": "stream",
     "text": [
      "Insert t: 180\n"
     ]
    }
   ],
   "source": [
    "end_day = int(input(\"Insert t: \"))"
   ]
  },
  {
   "cell_type": "code",
   "execution_count": 90,
   "metadata": {},
   "outputs": [
    {
     "name": "stdout",
     "output_type": "stream",
     "text": [
      "Insert beta: 0.4\n"
     ]
    }
   ],
   "source": [
    "rateSI = float(input(\"Insert beta: \"))"
   ]
  },
  {
   "cell_type": "code",
   "execution_count": 91,
   "metadata": {},
   "outputs": [
    {
     "name": "stdout",
     "output_type": "stream",
     "text": [
      "Insert gamma: 0.25\n"
     ]
    }
   ],
   "source": [
    "rateIR = float(input(\"Insert gamma: \"))"
   ]
  },
  {
   "cell_type": "code",
   "execution_count": 92,
   "metadata": {},
   "outputs": [
    {
     "name": "stdout",
     "output_type": "stream",
     "text": [
      "Insert numbers of suspectible at t_0: 87000000\n"
     ]
    }
   ],
   "source": [
    "Suspectible = int(input(\"Insert numbers of suspectible at t_0: \"))"
   ]
  },
  {
   "cell_type": "code",
   "execution_count": 93,
   "metadata": {},
   "outputs": [
    {
     "name": "stdout",
     "output_type": "stream",
     "text": [
      "Insert numbers of infectious at t_0: 2000\n"
     ]
    }
   ],
   "source": [
    "Infectious = int(input(\"Insert numbers of infectious at t_0: \"))"
   ]
  },
  {
   "cell_type": "code",
   "execution_count": 94,
   "metadata": {},
   "outputs": [],
   "source": [
    "m1 = SIR(end_day, Suspectible, Infectious, 0, rateSI, rateIR)"
   ]
  },
  {
   "cell_type": "code",
   "execution_count": 95,
   "metadata": {},
   "outputs": [],
   "source": [
    "m2 = RK4_SIR(end_day, Suspectible, Infectious, 0, rateSI, rateIR)"
   ]
  },
  {
   "cell_type": "code",
   "execution_count": 96,
   "metadata": {},
   "outputs": [],
   "source": [
    "m1.run()\n",
    "m2.calculate()"
   ]
  },
  {
   "cell_type": "markdown",
   "metadata": {},
   "source": [
    "m1.plot()\n",
    "m2.plot()"
   ]
  },
  {
   "cell_type": "code",
   "execution_count": 97,
   "metadata": {},
   "outputs": [
    {
     "data": {
      "image/png": "[encoded data removed]",
      "text/plain": [
       "<Figure size 432x288 with 1 Axes>"
      ]
     },
     "metadata": {
      "needs_background": "light"
     },
     "output_type": "display_data"
    }
   ],
   "source": [
    "plt.plot(m1.results['Days'], m1.results['Suspectible'], '--', color='blue', label = 'S-SIR')\n",
    "plt.plot(m1.results['Days'], m1.results['Infectious'], '--', color='red', label = 'I-SIR')\n",
    "plt.plot(m1.results['Days'], m1.results['Recovered'], '--', color='green', label = 'R-SIR')\n",
    "\n",
    "plt.plot(m2.results['Days'], m2.results['Suspectible'], color='blue', label = 'S-RK4' )\n",
    "plt.plot(m2.results['Days'], m2.results['Infectious'], color='red', label = 'I-RK4')\n",
    "plt.plot(m2.results['Days'], m2.results['Recovered'], color='green', label = 'R-SIR')\n",
    "\n",
    "plt.legend(['Suspectible - SIR', 'Infectious - SIR', 'Recovered - SIR', 'Suspectible - RK4','Infectious - RK4','Recovered - RK4'], prop={'size': 10}, loc='upper right', fancybox=True, shadow=True, bbox_to_anchor=(1.5, 1))\n",
    "\n",
    "plt.xlabel('Days')\n",
    "plt.ylabel('Population')\n",
    "\n",
    "plt.suptitle(r'$\\beta = {0}, \\gamma = {1}$, day = {2}, S(t_0)= {3}, I(t_0) = {4}'.format(m1.rateSI, m1.rateIR, m1.end_day, Suspectible, Infectious))\n",
    "plt.savefig('result.png')\n"
   ]
  },
  {
   "cell_type": "code",
   "execution_count": null,
   "metadata": {},
   "outputs": [],
   "source": []
  }
 ],
 "metadata": {
  "kernelspec": {
   "display_name": "Python 2",
   "language": "python",
   "name": "python2"
  },
  "language_info": {
   "codemirror_mode": {
    "name": "ipython",
    "version": 2
   },
   "file_extension": ".py",
   "mimetype": "text/x-python",
   "name": "python",
   "nbconvert_exporter": "python",
   "pygments_lexer": "ipython2",
   "version": "2.7.15"
  }
 },
 "nbformat": 4,
 "nbformat_minor": 4
}
