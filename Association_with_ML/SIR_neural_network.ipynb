{
  "nbformat": 4,
  "nbformat_minor": 0,
  "metadata": {
    "colab": {
      "name": "SIR_neural_network.ipynb",
      "provenance": []
    },
    "kernelspec": {
      "name": "python3",
      "display_name": "Python 3"
    }
  },
  "cells": [
    {
      "cell_type": "markdown",
      "metadata": {
        "id": "Y701yXVInJWa",
        "colab_type": "text"
      },
      "source": [
        "**1. Import libraries**"
      ]
    },
    {
      "cell_type": "code",
      "metadata": {
        "id": "t_CY4prXDIYO",
        "colab_type": "code",
        "colab": {}
      },
      "source": [
        "import numpy as np\n",
        "import pandas as pd\n",
        "import matplotlib.pyplot as plt\n",
        "\n",
        "from sklearn.model_selection import train_test_split\n",
        "from sklearn.preprocessing import MinMaxScaler\n",
        "\n",
        "from numpy import exp, array, random, dot, linspace, zeros, asarray\n",
        "from keras.layers import Dense, Input\n",
        "from keras.models import Sequential, Model\n",
        "from keras.optimizers import Adam\n",
        "\n",
        "from scipy.integrate import solve_ivp, odeint\n",
        "from scipy.optimize  import minimize"
      ],
      "execution_count": null,
      "outputs": []
    },
    {
      "cell_type": "markdown",
      "metadata": {
        "id": "K_7rv3D_nOwe",
        "colab_type": "text"
      },
      "source": [
        "**2. Read data from CSSEGISandData/COVID-19**"
      ]
    },
    {
      "cell_type": "code",
      "metadata": {
        "id": "cqc2TIp4DSxI",
        "colab_type": "code",
        "colab": {}
      },
      "source": [
        "url_confirmed = \"https://raw.githubusercontent.com/CSSEGISandData/COVID-19/master/csse_covid_19_data/csse_covid_19_time_series/time_series_covid19_confirmed_global.csv\"\n",
        "url_death = \"https://raw.githubusercontent.com/CSSEGISandData/COVID-19/master/csse_covid_19_data/csse_covid_19_time_series/time_series_covid19_deaths_global.csv\"\n",
        "url_recovered = \"https://raw.githubusercontent.com/CSSEGISandData/COVID-19/master/csse_covid_19_data/csse_covid_19_time_series/time_series_covid19_recovered_global.csv\"\n",
        "        \n",
        "cases_glob_df  = pd.read_csv(url_confirmed)\n",
        "deaths_glob_df = pd.read_csv(url_death)\n",
        "recovs_glob_df = pd.read_csv(url_recovered)"
      ],
      "execution_count": null,
      "outputs": []
    },
    {
      "cell_type": "code",
      "metadata": {
        "id": "PldVUL_0EE2W",
        "colab_type": "code",
        "colab": {
          "base_uri": "https://localhost:8080/",
          "height": 250
        },
        "outputId": "c2993989-d7ac-4ca6-969d-2160bed30799"
      },
      "source": [
        "#test\n",
        "cases_glob_df.head()"
      ],
      "execution_count": null,
      "outputs": [
        {
          "output_type": "execute_result",
          "data": {
            "text/html": [
              "<div>\n",
              "<style scoped>\n",
              "    .dataframe tbody tr th:only-of-type {\n",
              "        vertical-align: middle;\n",
              "    }\n",
              "\n",
              "    .dataframe tbody tr th {\n",
              "        vertical-align: top;\n",
              "    }\n",
              "\n",
              "    .dataframe thead th {\n",
              "        text-align: right;\n",
              "    }\n",
              "</style>\n",
              "<table border=\"1\" class=\"dataframe\">\n",
              "  <thead>\n",
              "    <tr style=\"text-align: right;\">\n",
              "      <th></th>\n",
              "      <th>Province/State</th>\n",
              "      <th>Country/Region</th>\n",
              "      <th>Lat</th>\n",
              "      <th>Long</th>\n",
              "      <th>1/22/20</th>\n",
              "      <th>1/23/20</th>\n",
              "      <th>1/24/20</th>\n",
              "      <th>1/25/20</th>\n",
              "      <th>1/26/20</th>\n",
              "      <th>1/27/20</th>\n",
              "      <th>1/28/20</th>\n",
              "      <th>1/29/20</th>\n",
              "      <th>1/30/20</th>\n",
              "      <th>1/31/20</th>\n",
              "      <th>2/1/20</th>\n",
              "      <th>2/2/20</th>\n",
              "      <th>2/3/20</th>\n",
              "      <th>2/4/20</th>\n",
              "      <th>2/5/20</th>\n",
              "      <th>2/6/20</th>\n",
              "      <th>2/7/20</th>\n",
              "      <th>2/8/20</th>\n",
              "      <th>2/9/20</th>\n",
              "      <th>2/10/20</th>\n",
              "      <th>2/11/20</th>\n",
              "      <th>2/12/20</th>\n",
              "      <th>2/13/20</th>\n",
              "      <th>2/14/20</th>\n",
              "      <th>2/15/20</th>\n",
              "      <th>2/16/20</th>\n",
              "      <th>2/17/20</th>\n",
              "      <th>2/18/20</th>\n",
              "      <th>2/19/20</th>\n",
              "      <th>2/20/20</th>\n",
              "      <th>2/21/20</th>\n",
              "      <th>2/22/20</th>\n",
              "      <th>2/23/20</th>\n",
              "      <th>2/24/20</th>\n",
              "      <th>2/25/20</th>\n",
              "      <th>2/26/20</th>\n",
              "      <th>...</th>\n",
              "      <th>6/23/20</th>\n",
              "      <th>6/24/20</th>\n",
              "      <th>6/25/20</th>\n",
              "      <th>6/26/20</th>\n",
              "      <th>6/27/20</th>\n",
              "      <th>6/28/20</th>\n",
              "      <th>6/29/20</th>\n",
              "      <th>6/30/20</th>\n",
              "      <th>7/1/20</th>\n",
              "      <th>7/2/20</th>\n",
              "      <th>7/3/20</th>\n",
              "      <th>7/4/20</th>\n",
              "      <th>7/5/20</th>\n",
              "      <th>7/6/20</th>\n",
              "      <th>7/7/20</th>\n",
              "      <th>7/8/20</th>\n",
              "      <th>7/9/20</th>\n",
              "      <th>7/10/20</th>\n",
              "      <th>7/11/20</th>\n",
              "      <th>7/12/20</th>\n",
              "      <th>7/13/20</th>\n",
              "      <th>7/14/20</th>\n",
              "      <th>7/15/20</th>\n",
              "      <th>7/16/20</th>\n",
              "      <th>7/17/20</th>\n",
              "      <th>7/18/20</th>\n",
              "      <th>7/19/20</th>\n",
              "      <th>7/20/20</th>\n",
              "      <th>7/21/20</th>\n",
              "      <th>7/22/20</th>\n",
              "      <th>7/23/20</th>\n",
              "      <th>7/24/20</th>\n",
              "      <th>7/25/20</th>\n",
              "      <th>7/26/20</th>\n",
              "      <th>7/27/20</th>\n",
              "      <th>7/28/20</th>\n",
              "      <th>7/29/20</th>\n",
              "      <th>7/30/20</th>\n",
              "      <th>7/31/20</th>\n",
              "      <th>8/1/20</th>\n",
              "    </tr>\n",
              "  </thead>\n",
              "  <tbody>\n",
              "    <tr>\n",
              "      <th>0</th>\n",
              "      <td>NaN</td>\n",
              "      <td>Afghanistan</td>\n",
              "      <td>33.93911</td>\n",
              "      <td>67.709953</td>\n",
              "      <td>0</td>\n",
              "      <td>0</td>\n",
              "      <td>0</td>\n",
              "      <td>0</td>\n",
              "      <td>0</td>\n",
              "      <td>0</td>\n",
              "      <td>0</td>\n",
              "      <td>0</td>\n",
              "      <td>0</td>\n",
              "      <td>0</td>\n",
              "      <td>0</td>\n",
              "      <td>0</td>\n",
              "      <td>0</td>\n",
              "      <td>0</td>\n",
              "      <td>0</td>\n",
              "      <td>0</td>\n",
              "      <td>0</td>\n",
              "      <td>0</td>\n",
              "      <td>0</td>\n",
              "      <td>0</td>\n",
              "      <td>0</td>\n",
              "      <td>0</td>\n",
              "      <td>0</td>\n",
              "      <td>0</td>\n",
              "      <td>0</td>\n",
              "      <td>0</td>\n",
              "      <td>0</td>\n",
              "      <td>0</td>\n",
              "      <td>0</td>\n",
              "      <td>0</td>\n",
              "      <td>0</td>\n",
              "      <td>0</td>\n",
              "      <td>0</td>\n",
              "      <td>1</td>\n",
              "      <td>1</td>\n",
              "      <td>1</td>\n",
              "      <td>...</td>\n",
              "      <td>29481</td>\n",
              "      <td>29640</td>\n",
              "      <td>30175</td>\n",
              "      <td>30451</td>\n",
              "      <td>30616</td>\n",
              "      <td>30967</td>\n",
              "      <td>31238</td>\n",
              "      <td>31517</td>\n",
              "      <td>31836</td>\n",
              "      <td>32022</td>\n",
              "      <td>32324</td>\n",
              "      <td>32672</td>\n",
              "      <td>32951</td>\n",
              "      <td>33190</td>\n",
              "      <td>33384</td>\n",
              "      <td>33594</td>\n",
              "      <td>33908</td>\n",
              "      <td>34194</td>\n",
              "      <td>34366</td>\n",
              "      <td>34451</td>\n",
              "      <td>34455</td>\n",
              "      <td>34740</td>\n",
              "      <td>34994</td>\n",
              "      <td>35070</td>\n",
              "      <td>35229</td>\n",
              "      <td>35301</td>\n",
              "      <td>35475</td>\n",
              "      <td>35526</td>\n",
              "      <td>35615</td>\n",
              "      <td>35727</td>\n",
              "      <td>35928</td>\n",
              "      <td>35981</td>\n",
              "      <td>36036</td>\n",
              "      <td>36157</td>\n",
              "      <td>36263</td>\n",
              "      <td>36368</td>\n",
              "      <td>36471</td>\n",
              "      <td>36542</td>\n",
              "      <td>36675</td>\n",
              "      <td>36710</td>\n",
              "    </tr>\n",
              "    <tr>\n",
              "      <th>1</th>\n",
              "      <td>NaN</td>\n",
              "      <td>Albania</td>\n",
              "      <td>41.15330</td>\n",
              "      <td>20.168300</td>\n",
              "      <td>0</td>\n",
              "      <td>0</td>\n",
              "      <td>0</td>\n",
              "      <td>0</td>\n",
              "      <td>0</td>\n",
              "      <td>0</td>\n",
              "      <td>0</td>\n",
              "      <td>0</td>\n",
              "      <td>0</td>\n",
              "      <td>0</td>\n",
              "      <td>0</td>\n",
              "      <td>0</td>\n",
              "      <td>0</td>\n",
              "      <td>0</td>\n",
              "      <td>0</td>\n",
              "      <td>0</td>\n",
              "      <td>0</td>\n",
              "      <td>0</td>\n",
              "      <td>0</td>\n",
              "      <td>0</td>\n",
              "      <td>0</td>\n",
              "      <td>0</td>\n",
              "      <td>0</td>\n",
              "      <td>0</td>\n",
              "      <td>0</td>\n",
              "      <td>0</td>\n",
              "      <td>0</td>\n",
              "      <td>0</td>\n",
              "      <td>0</td>\n",
              "      <td>0</td>\n",
              "      <td>0</td>\n",
              "      <td>0</td>\n",
              "      <td>0</td>\n",
              "      <td>0</td>\n",
              "      <td>0</td>\n",
              "      <td>0</td>\n",
              "      <td>...</td>\n",
              "      <td>2047</td>\n",
              "      <td>2114</td>\n",
              "      <td>2192</td>\n",
              "      <td>2269</td>\n",
              "      <td>2330</td>\n",
              "      <td>2402</td>\n",
              "      <td>2466</td>\n",
              "      <td>2535</td>\n",
              "      <td>2580</td>\n",
              "      <td>2662</td>\n",
              "      <td>2752</td>\n",
              "      <td>2819</td>\n",
              "      <td>2893</td>\n",
              "      <td>2964</td>\n",
              "      <td>3038</td>\n",
              "      <td>3106</td>\n",
              "      <td>3188</td>\n",
              "      <td>3278</td>\n",
              "      <td>3371</td>\n",
              "      <td>3454</td>\n",
              "      <td>3571</td>\n",
              "      <td>3667</td>\n",
              "      <td>3752</td>\n",
              "      <td>3851</td>\n",
              "      <td>3906</td>\n",
              "      <td>4008</td>\n",
              "      <td>4090</td>\n",
              "      <td>4171</td>\n",
              "      <td>4290</td>\n",
              "      <td>4358</td>\n",
              "      <td>4466</td>\n",
              "      <td>4570</td>\n",
              "      <td>4637</td>\n",
              "      <td>4763</td>\n",
              "      <td>4880</td>\n",
              "      <td>4997</td>\n",
              "      <td>5105</td>\n",
              "      <td>5197</td>\n",
              "      <td>5276</td>\n",
              "      <td>5396</td>\n",
              "    </tr>\n",
              "    <tr>\n",
              "      <th>2</th>\n",
              "      <td>NaN</td>\n",
              "      <td>Algeria</td>\n",
              "      <td>28.03390</td>\n",
              "      <td>1.659600</td>\n",
              "      <td>0</td>\n",
              "      <td>0</td>\n",
              "      <td>0</td>\n",
              "      <td>0</td>\n",
              "      <td>0</td>\n",
              "      <td>0</td>\n",
              "      <td>0</td>\n",
              "      <td>0</td>\n",
              "      <td>0</td>\n",
              "      <td>0</td>\n",
              "      <td>0</td>\n",
              "      <td>0</td>\n",
              "      <td>0</td>\n",
              "      <td>0</td>\n",
              "      <td>0</td>\n",
              "      <td>0</td>\n",
              "      <td>0</td>\n",
              "      <td>0</td>\n",
              "      <td>0</td>\n",
              "      <td>0</td>\n",
              "      <td>0</td>\n",
              "      <td>0</td>\n",
              "      <td>0</td>\n",
              "      <td>0</td>\n",
              "      <td>0</td>\n",
              "      <td>0</td>\n",
              "      <td>0</td>\n",
              "      <td>0</td>\n",
              "      <td>0</td>\n",
              "      <td>0</td>\n",
              "      <td>0</td>\n",
              "      <td>0</td>\n",
              "      <td>0</td>\n",
              "      <td>0</td>\n",
              "      <td>1</td>\n",
              "      <td>1</td>\n",
              "      <td>...</td>\n",
              "      <td>12076</td>\n",
              "      <td>12248</td>\n",
              "      <td>12445</td>\n",
              "      <td>12685</td>\n",
              "      <td>12968</td>\n",
              "      <td>13273</td>\n",
              "      <td>13571</td>\n",
              "      <td>13907</td>\n",
              "      <td>14272</td>\n",
              "      <td>14657</td>\n",
              "      <td>15070</td>\n",
              "      <td>15500</td>\n",
              "      <td>15941</td>\n",
              "      <td>16404</td>\n",
              "      <td>16879</td>\n",
              "      <td>17348</td>\n",
              "      <td>17808</td>\n",
              "      <td>18242</td>\n",
              "      <td>18712</td>\n",
              "      <td>19195</td>\n",
              "      <td>19689</td>\n",
              "      <td>20216</td>\n",
              "      <td>20770</td>\n",
              "      <td>21355</td>\n",
              "      <td>21948</td>\n",
              "      <td>22549</td>\n",
              "      <td>23084</td>\n",
              "      <td>23691</td>\n",
              "      <td>24278</td>\n",
              "      <td>24872</td>\n",
              "      <td>25484</td>\n",
              "      <td>26159</td>\n",
              "      <td>26764</td>\n",
              "      <td>27357</td>\n",
              "      <td>27973</td>\n",
              "      <td>28615</td>\n",
              "      <td>29229</td>\n",
              "      <td>29831</td>\n",
              "      <td>30394</td>\n",
              "      <td>30950</td>\n",
              "    </tr>\n",
              "    <tr>\n",
              "      <th>3</th>\n",
              "      <td>NaN</td>\n",
              "      <td>Andorra</td>\n",
              "      <td>42.50630</td>\n",
              "      <td>1.521800</td>\n",
              "      <td>0</td>\n",
              "      <td>0</td>\n",
              "      <td>0</td>\n",
              "      <td>0</td>\n",
              "      <td>0</td>\n",
              "      <td>0</td>\n",
              "      <td>0</td>\n",
              "      <td>0</td>\n",
              "      <td>0</td>\n",
              "      <td>0</td>\n",
              "      <td>0</td>\n",
              "      <td>0</td>\n",
              "      <td>0</td>\n",
              "      <td>0</td>\n",
              "      <td>0</td>\n",
              "      <td>0</td>\n",
              "      <td>0</td>\n",
              "      <td>0</td>\n",
              "      <td>0</td>\n",
              "      <td>0</td>\n",
              "      <td>0</td>\n",
              "      <td>0</td>\n",
              "      <td>0</td>\n",
              "      <td>0</td>\n",
              "      <td>0</td>\n",
              "      <td>0</td>\n",
              "      <td>0</td>\n",
              "      <td>0</td>\n",
              "      <td>0</td>\n",
              "      <td>0</td>\n",
              "      <td>0</td>\n",
              "      <td>0</td>\n",
              "      <td>0</td>\n",
              "      <td>0</td>\n",
              "      <td>0</td>\n",
              "      <td>0</td>\n",
              "      <td>...</td>\n",
              "      <td>855</td>\n",
              "      <td>855</td>\n",
              "      <td>855</td>\n",
              "      <td>855</td>\n",
              "      <td>855</td>\n",
              "      <td>855</td>\n",
              "      <td>855</td>\n",
              "      <td>855</td>\n",
              "      <td>855</td>\n",
              "      <td>855</td>\n",
              "      <td>855</td>\n",
              "      <td>855</td>\n",
              "      <td>855</td>\n",
              "      <td>855</td>\n",
              "      <td>855</td>\n",
              "      <td>855</td>\n",
              "      <td>855</td>\n",
              "      <td>855</td>\n",
              "      <td>855</td>\n",
              "      <td>855</td>\n",
              "      <td>858</td>\n",
              "      <td>861</td>\n",
              "      <td>862</td>\n",
              "      <td>877</td>\n",
              "      <td>880</td>\n",
              "      <td>880</td>\n",
              "      <td>880</td>\n",
              "      <td>884</td>\n",
              "      <td>884</td>\n",
              "      <td>889</td>\n",
              "      <td>889</td>\n",
              "      <td>897</td>\n",
              "      <td>897</td>\n",
              "      <td>897</td>\n",
              "      <td>907</td>\n",
              "      <td>907</td>\n",
              "      <td>918</td>\n",
              "      <td>922</td>\n",
              "      <td>925</td>\n",
              "      <td>925</td>\n",
              "    </tr>\n",
              "    <tr>\n",
              "      <th>4</th>\n",
              "      <td>NaN</td>\n",
              "      <td>Angola</td>\n",
              "      <td>-11.20270</td>\n",
              "      <td>17.873900</td>\n",
              "      <td>0</td>\n",
              "      <td>0</td>\n",
              "      <td>0</td>\n",
              "      <td>0</td>\n",
              "      <td>0</td>\n",
              "      <td>0</td>\n",
              "      <td>0</td>\n",
              "      <td>0</td>\n",
              "      <td>0</td>\n",
              "      <td>0</td>\n",
              "      <td>0</td>\n",
              "      <td>0</td>\n",
              "      <td>0</td>\n",
              "      <td>0</td>\n",
              "      <td>0</td>\n",
              "      <td>0</td>\n",
              "      <td>0</td>\n",
              "      <td>0</td>\n",
              "      <td>0</td>\n",
              "      <td>0</td>\n",
              "      <td>0</td>\n",
              "      <td>0</td>\n",
              "      <td>0</td>\n",
              "      <td>0</td>\n",
              "      <td>0</td>\n",
              "      <td>0</td>\n",
              "      <td>0</td>\n",
              "      <td>0</td>\n",
              "      <td>0</td>\n",
              "      <td>0</td>\n",
              "      <td>0</td>\n",
              "      <td>0</td>\n",
              "      <td>0</td>\n",
              "      <td>0</td>\n",
              "      <td>0</td>\n",
              "      <td>0</td>\n",
              "      <td>...</td>\n",
              "      <td>189</td>\n",
              "      <td>197</td>\n",
              "      <td>212</td>\n",
              "      <td>212</td>\n",
              "      <td>259</td>\n",
              "      <td>267</td>\n",
              "      <td>276</td>\n",
              "      <td>284</td>\n",
              "      <td>291</td>\n",
              "      <td>315</td>\n",
              "      <td>328</td>\n",
              "      <td>346</td>\n",
              "      <td>346</td>\n",
              "      <td>346</td>\n",
              "      <td>386</td>\n",
              "      <td>386</td>\n",
              "      <td>396</td>\n",
              "      <td>458</td>\n",
              "      <td>462</td>\n",
              "      <td>506</td>\n",
              "      <td>525</td>\n",
              "      <td>541</td>\n",
              "      <td>576</td>\n",
              "      <td>607</td>\n",
              "      <td>638</td>\n",
              "      <td>687</td>\n",
              "      <td>705</td>\n",
              "      <td>749</td>\n",
              "      <td>779</td>\n",
              "      <td>812</td>\n",
              "      <td>851</td>\n",
              "      <td>880</td>\n",
              "      <td>916</td>\n",
              "      <td>932</td>\n",
              "      <td>950</td>\n",
              "      <td>1000</td>\n",
              "      <td>1078</td>\n",
              "      <td>1109</td>\n",
              "      <td>1148</td>\n",
              "      <td>1164</td>\n",
              "    </tr>\n",
              "  </tbody>\n",
              "</table>\n",
              "<p>5 rows × 197 columns</p>\n",
              "</div>"
            ],
            "text/plain": [
              "  Province/State Country/Region       Lat  ...  7/30/20  7/31/20  8/1/20\n",
              "0            NaN    Afghanistan  33.93911  ...    36542    36675   36710\n",
              "1            NaN        Albania  41.15330  ...     5197     5276    5396\n",
              "2            NaN        Algeria  28.03390  ...    29831    30394   30950\n",
              "3            NaN        Andorra  42.50630  ...      922      925     925\n",
              "4            NaN         Angola -11.20270  ...     1109     1148    1164\n",
              "\n",
              "[5 rows x 197 columns]"
            ]
          },
          "metadata": {
            "tags": []
          },
          "execution_count": 270
        }
      ]
    },
    {
      "cell_type": "markdown",
      "metadata": {
        "id": "qP7-_RE0nm_6",
        "colab_type": "text"
      },
      "source": [
        "**3. Filter out the data in US only**"
      ]
    },
    {
      "cell_type": "code",
      "metadata": {
        "id": "l7_cdwW1EMcI",
        "colab_type": "code",
        "colab": {}
      },
      "source": [
        "location = \"US\"\n",
        "# get population from worldometer\n",
        "population = 331002651"
      ],
      "execution_count": null,
      "outputs": []
    },
    {
      "cell_type": "code",
      "metadata": {
        "id": "TTMFfQNaElNH",
        "colab_type": "code",
        "colab": {}
      },
      "source": [
        "cases_df = cases_glob_df.loc[cases_glob_df['Country/Region'] == location].loc[cases_glob_df['Province/State'].isnull()]\n",
        "death_df = deaths_glob_df.loc[deaths_glob_df['Country/Region'] == location].loc[deaths_glob_df['Province/State'].isnull()]\n",
        "recovered_df = recovs_glob_df.loc[recovs_glob_df['Country/Region'] == location].loc[recovs_glob_df['Province/State'].isnull()]"
      ],
      "execution_count": null,
      "outputs": []
    },
    {
      "cell_type": "code",
      "metadata": {
        "id": "jN-ZJ7J0EmeO",
        "colab_type": "code",
        "colab": {
          "base_uri": "https://localhost:8080/",
          "height": 127
        },
        "outputId": "89103cb1-e9c5-4abd-83ba-07470c4f7f7d"
      },
      "source": [
        "#test\n",
        "cases_df"
      ],
      "execution_count": null,
      "outputs": [
        {
          "output_type": "execute_result",
          "data": {
            "text/html": [
              "<div>\n",
              "<style scoped>\n",
              "    .dataframe tbody tr th:only-of-type {\n",
              "        vertical-align: middle;\n",
              "    }\n",
              "\n",
              "    .dataframe tbody tr th {\n",
              "        vertical-align: top;\n",
              "    }\n",
              "\n",
              "    .dataframe thead th {\n",
              "        text-align: right;\n",
              "    }\n",
              "</style>\n",
              "<table border=\"1\" class=\"dataframe\">\n",
              "  <thead>\n",
              "    <tr style=\"text-align: right;\">\n",
              "      <th></th>\n",
              "      <th>Province/State</th>\n",
              "      <th>Country/Region</th>\n",
              "      <th>Lat</th>\n",
              "      <th>Long</th>\n",
              "      <th>1/22/20</th>\n",
              "      <th>1/23/20</th>\n",
              "      <th>1/24/20</th>\n",
              "      <th>1/25/20</th>\n",
              "      <th>1/26/20</th>\n",
              "      <th>1/27/20</th>\n",
              "      <th>1/28/20</th>\n",
              "      <th>1/29/20</th>\n",
              "      <th>1/30/20</th>\n",
              "      <th>1/31/20</th>\n",
              "      <th>2/1/20</th>\n",
              "      <th>2/2/20</th>\n",
              "      <th>2/3/20</th>\n",
              "      <th>2/4/20</th>\n",
              "      <th>2/5/20</th>\n",
              "      <th>2/6/20</th>\n",
              "      <th>2/7/20</th>\n",
              "      <th>2/8/20</th>\n",
              "      <th>2/9/20</th>\n",
              "      <th>2/10/20</th>\n",
              "      <th>2/11/20</th>\n",
              "      <th>2/12/20</th>\n",
              "      <th>2/13/20</th>\n",
              "      <th>2/14/20</th>\n",
              "      <th>2/15/20</th>\n",
              "      <th>2/16/20</th>\n",
              "      <th>2/17/20</th>\n",
              "      <th>2/18/20</th>\n",
              "      <th>2/19/20</th>\n",
              "      <th>2/20/20</th>\n",
              "      <th>2/21/20</th>\n",
              "      <th>2/22/20</th>\n",
              "      <th>2/23/20</th>\n",
              "      <th>2/24/20</th>\n",
              "      <th>2/25/20</th>\n",
              "      <th>2/26/20</th>\n",
              "      <th>...</th>\n",
              "      <th>6/23/20</th>\n",
              "      <th>6/24/20</th>\n",
              "      <th>6/25/20</th>\n",
              "      <th>6/26/20</th>\n",
              "      <th>6/27/20</th>\n",
              "      <th>6/28/20</th>\n",
              "      <th>6/29/20</th>\n",
              "      <th>6/30/20</th>\n",
              "      <th>7/1/20</th>\n",
              "      <th>7/2/20</th>\n",
              "      <th>7/3/20</th>\n",
              "      <th>7/4/20</th>\n",
              "      <th>7/5/20</th>\n",
              "      <th>7/6/20</th>\n",
              "      <th>7/7/20</th>\n",
              "      <th>7/8/20</th>\n",
              "      <th>7/9/20</th>\n",
              "      <th>7/10/20</th>\n",
              "      <th>7/11/20</th>\n",
              "      <th>7/12/20</th>\n",
              "      <th>7/13/20</th>\n",
              "      <th>7/14/20</th>\n",
              "      <th>7/15/20</th>\n",
              "      <th>7/16/20</th>\n",
              "      <th>7/17/20</th>\n",
              "      <th>7/18/20</th>\n",
              "      <th>7/19/20</th>\n",
              "      <th>7/20/20</th>\n",
              "      <th>7/21/20</th>\n",
              "      <th>7/22/20</th>\n",
              "      <th>7/23/20</th>\n",
              "      <th>7/24/20</th>\n",
              "      <th>7/25/20</th>\n",
              "      <th>7/26/20</th>\n",
              "      <th>7/27/20</th>\n",
              "      <th>7/28/20</th>\n",
              "      <th>7/29/20</th>\n",
              "      <th>7/30/20</th>\n",
              "      <th>7/31/20</th>\n",
              "      <th>8/1/20</th>\n",
              "    </tr>\n",
              "  </thead>\n",
              "  <tbody>\n",
              "    <tr>\n",
              "      <th>225</th>\n",
              "      <td>NaN</td>\n",
              "      <td>US</td>\n",
              "      <td>40.0</td>\n",
              "      <td>-100.0</td>\n",
              "      <td>1</td>\n",
              "      <td>1</td>\n",
              "      <td>2</td>\n",
              "      <td>2</td>\n",
              "      <td>5</td>\n",
              "      <td>5</td>\n",
              "      <td>5</td>\n",
              "      <td>5</td>\n",
              "      <td>5</td>\n",
              "      <td>7</td>\n",
              "      <td>8</td>\n",
              "      <td>8</td>\n",
              "      <td>11</td>\n",
              "      <td>11</td>\n",
              "      <td>11</td>\n",
              "      <td>11</td>\n",
              "      <td>11</td>\n",
              "      <td>11</td>\n",
              "      <td>11</td>\n",
              "      <td>11</td>\n",
              "      <td>12</td>\n",
              "      <td>12</td>\n",
              "      <td>13</td>\n",
              "      <td>13</td>\n",
              "      <td>13</td>\n",
              "      <td>13</td>\n",
              "      <td>13</td>\n",
              "      <td>13</td>\n",
              "      <td>13</td>\n",
              "      <td>13</td>\n",
              "      <td>15</td>\n",
              "      <td>15</td>\n",
              "      <td>15</td>\n",
              "      <td>15</td>\n",
              "      <td>15</td>\n",
              "      <td>15</td>\n",
              "      <td>...</td>\n",
              "      <td>2347491</td>\n",
              "      <td>2382426</td>\n",
              "      <td>2422299</td>\n",
              "      <td>2467554</td>\n",
              "      <td>2510259</td>\n",
              "      <td>2549864</td>\n",
              "      <td>2590668</td>\n",
              "      <td>2636414</td>\n",
              "      <td>2687588</td>\n",
              "      <td>2742049</td>\n",
              "      <td>2795361</td>\n",
              "      <td>2841241</td>\n",
              "      <td>2891124</td>\n",
              "      <td>2936077</td>\n",
              "      <td>2996098</td>\n",
              "      <td>3054699</td>\n",
              "      <td>3117946</td>\n",
              "      <td>3185737</td>\n",
              "      <td>3245925</td>\n",
              "      <td>3304942</td>\n",
              "      <td>3364157</td>\n",
              "      <td>3431574</td>\n",
              "      <td>3498902</td>\n",
              "      <td>3576157</td>\n",
              "      <td>3647715</td>\n",
              "      <td>3711413</td>\n",
              "      <td>3773260</td>\n",
              "      <td>3834677</td>\n",
              "      <td>3899211</td>\n",
              "      <td>3970121</td>\n",
              "      <td>4038816</td>\n",
              "      <td>4112531</td>\n",
              "      <td>4178970</td>\n",
              "      <td>4233923</td>\n",
              "      <td>4290337</td>\n",
              "      <td>4356206</td>\n",
              "      <td>4426982</td>\n",
              "      <td>4495015</td>\n",
              "      <td>4562038</td>\n",
              "      <td>4620444</td>\n",
              "    </tr>\n",
              "  </tbody>\n",
              "</table>\n",
              "<p>1 rows × 197 columns</p>\n",
              "</div>"
            ],
            "text/plain": [
              "    Province/State Country/Region   Lat  ...  7/30/20  7/31/20   8/1/20\n",
              "225            NaN             US  40.0  ...  4495015  4562038  4620444\n",
              "\n",
              "[1 rows x 197 columns]"
            ]
          },
          "metadata": {
            "tags": []
          },
          "execution_count": 273
        }
      ]
    },
    {
      "cell_type": "code",
      "metadata": {
        "id": "84qViotwE5r2",
        "colab_type": "code",
        "colab": {}
      },
      "source": [
        "cases_df.drop(labels=['Province/State', 'Country/Region', 'Lat', 'Long'], axis=1, inplace =True)\n",
        "death_df.drop(labels=['Province/State', 'Country/Region', 'Lat', 'Long'], axis=1, inplace =True)\n",
        "recovered_df.drop(labels=['Province/State', 'Country/Region', 'Lat', 'Long'], axis=1, inplace =True)\n",
        "case_df = cases_df.transpose()\n",
        "death_df = death_df.transpose()\n",
        "recovered_df = recovered_df.transpose()"
      ],
      "execution_count": null,
      "outputs": []
    },
    {
      "cell_type": "code",
      "metadata": {
        "id": "iraG9dYWHCJf",
        "colab_type": "code",
        "colab": {
          "base_uri": "https://localhost:8080/",
          "height": 414
        },
        "outputId": "220d635f-b5a8-4412-b354-1fbeb0083395"
      },
      "source": [
        "case_df.rename(columns = {case_df.columns[0]:'Cases'}, inplace=True)\n",
        "death_df.rename(columns = {death_df.columns[0]:'Death'}, inplace=True)\n",
        "recovered_df.rename(columns = {recovered_df.columns[0]:'Recovered'}, inplace=True)\n",
        "data_df = pd.concat([case_df, death_df, recovered_df], axis=1,sort=False)\n",
        "data_df['SIRD_Suspectible'] = population - data_df['Cases']\n",
        "data_df['SIRD_Infected'] = data_df['Cases']-data_df['Death'] - data_df['Recovered']\n",
        "data_df['SIRD_Recovered'] = data_df['Recovered']\n",
        "data_df['SIRD_Death'] = data_df['Death']\n",
        "\n",
        "SIRD_df = data_df.loc[:, data_df.columns.intersection(['SIRD_Suspectible', 'SIRD_Infected', 'SIRD_Recovered', 'SIRD_Death'])]\n",
        "#test\n",
        "SIRD_df"
      ],
      "execution_count": null,
      "outputs": [
        {
          "output_type": "execute_result",
          "data": {
            "text/html": [
              "<div>\n",
              "<style scoped>\n",
              "    .dataframe tbody tr th:only-of-type {\n",
              "        vertical-align: middle;\n",
              "    }\n",
              "\n",
              "    .dataframe tbody tr th {\n",
              "        vertical-align: top;\n",
              "    }\n",
              "\n",
              "    .dataframe thead th {\n",
              "        text-align: right;\n",
              "    }\n",
              "</style>\n",
              "<table border=\"1\" class=\"dataframe\">\n",
              "  <thead>\n",
              "    <tr style=\"text-align: right;\">\n",
              "      <th></th>\n",
              "      <th>SIRD_Suspectible</th>\n",
              "      <th>SIRD_Infected</th>\n",
              "      <th>SIRD_Recovered</th>\n",
              "      <th>SIRD_Death</th>\n",
              "    </tr>\n",
              "  </thead>\n",
              "  <tbody>\n",
              "    <tr>\n",
              "      <th>1/22/20</th>\n",
              "      <td>331002650</td>\n",
              "      <td>1</td>\n",
              "      <td>0</td>\n",
              "      <td>0</td>\n",
              "    </tr>\n",
              "    <tr>\n",
              "      <th>1/23/20</th>\n",
              "      <td>331002650</td>\n",
              "      <td>1</td>\n",
              "      <td>0</td>\n",
              "      <td>0</td>\n",
              "    </tr>\n",
              "    <tr>\n",
              "      <th>1/24/20</th>\n",
              "      <td>331002649</td>\n",
              "      <td>2</td>\n",
              "      <td>0</td>\n",
              "      <td>0</td>\n",
              "    </tr>\n",
              "    <tr>\n",
              "      <th>1/25/20</th>\n",
              "      <td>331002649</td>\n",
              "      <td>2</td>\n",
              "      <td>0</td>\n",
              "      <td>0</td>\n",
              "    </tr>\n",
              "    <tr>\n",
              "      <th>1/26/20</th>\n",
              "      <td>331002646</td>\n",
              "      <td>5</td>\n",
              "      <td>0</td>\n",
              "      <td>0</td>\n",
              "    </tr>\n",
              "    <tr>\n",
              "      <th>...</th>\n",
              "      <td>...</td>\n",
              "      <td>...</td>\n",
              "      <td>...</td>\n",
              "      <td>...</td>\n",
              "    </tr>\n",
              "    <tr>\n",
              "      <th>7/28/20</th>\n",
              "      <td>326646445</td>\n",
              "      <td>2851469</td>\n",
              "      <td>1355363</td>\n",
              "      <td>149374</td>\n",
              "    </tr>\n",
              "    <tr>\n",
              "      <th>7/29/20</th>\n",
              "      <td>326575669</td>\n",
              "      <td>2886735</td>\n",
              "      <td>1389425</td>\n",
              "      <td>150822</td>\n",
              "    </tr>\n",
              "    <tr>\n",
              "      <th>7/30/20</th>\n",
              "      <td>326507636</td>\n",
              "      <td>2928805</td>\n",
              "      <td>1414155</td>\n",
              "      <td>152055</td>\n",
              "    </tr>\n",
              "    <tr>\n",
              "      <th>7/31/20</th>\n",
              "      <td>326440613</td>\n",
              "      <td>2970564</td>\n",
              "      <td>1438160</td>\n",
              "      <td>153314</td>\n",
              "    </tr>\n",
              "    <tr>\n",
              "      <th>8/1/20</th>\n",
              "      <td>326382207</td>\n",
              "      <td>3004112</td>\n",
              "      <td>1461885</td>\n",
              "      <td>154447</td>\n",
              "    </tr>\n",
              "  </tbody>\n",
              "</table>\n",
              "<p>193 rows × 4 columns</p>\n",
              "</div>"
            ],
            "text/plain": [
              "         SIRD_Suspectible  SIRD_Infected  SIRD_Recovered  SIRD_Death\n",
              "1/22/20         331002650              1               0           0\n",
              "1/23/20         331002650              1               0           0\n",
              "1/24/20         331002649              2               0           0\n",
              "1/25/20         331002649              2               0           0\n",
              "1/26/20         331002646              5               0           0\n",
              "...                   ...            ...             ...         ...\n",
              "7/28/20         326646445        2851469         1355363      149374\n",
              "7/29/20         326575669        2886735         1389425      150822\n",
              "7/30/20         326507636        2928805         1414155      152055\n",
              "7/31/20         326440613        2970564         1438160      153314\n",
              "8/1/20          326382207        3004112         1461885      154447\n",
              "\n",
              "[193 rows x 4 columns]"
            ]
          },
          "metadata": {
            "tags": []
          },
          "execution_count": 275
        }
      ]
    },
    {
      "cell_type": "markdown",
      "metadata": {
        "id": "7jCT-Dg2o_s6",
        "colab_type": "text"
      },
      "source": [
        "**4. Build SIRD_model**"
      ]
    },
    {
      "cell_type": "code",
      "metadata": {
        "id": "XfvqW-RdKONP",
        "colab_type": "code",
        "colab": {}
      },
      "source": [
        "def SIRD_model (y, t, beta, gamma, mu, pop):\n",
        "    S, I, R, D = y\n",
        "    dS_dt = (-beta*S*I)/pop\n",
        "    dI_dt = (((beta*S*I)/pop) - (gamma*I)) - (mu*I)\n",
        "    dR_dt = gamma*I\n",
        "    dD_dt = mu*I\n",
        "    return ([ dS_dt , dI_dt , dR_dt, dD_dt ])"
      ],
      "execution_count": null,
      "outputs": []
    },
    {
      "cell_type": "markdown",
      "metadata": {
        "id": "39pTvc30pRUC",
        "colab_type": "text"
      },
      "source": [
        "**5. Build loss function (RMSE)**"
      ]
    },
    {
      "cell_type": "code",
      "metadata": {
        "id": "lHeiUB_NKPPE",
        "colab_type": "code",
        "colab": {}
      },
      "source": [
        "def RMSE(point, data, S0, I0, R0, D0, pop):\n",
        "  beta, gamma, mu = point\n",
        "  size = len(data)\n",
        "\n",
        "  def SIRD(t, y):\n",
        "    S = y[0]\n",
        "    I = y[1]\n",
        "    R = y[2]\n",
        "    D = y[3]\n",
        "\n",
        "    S_res = (-beta*S*I)/pop\n",
        "    I_res = (beta*S*I/pop) - gamma*I - mu*I\n",
        "    R_res = gamma*I\n",
        "    D_res = mu*I\n",
        "\n",
        "    return [S_res, I_res, R_res, D_res]\n",
        "  \n",
        "  solution = solve_ivp(SIRD, [0, size], [S0, I0, R0, D0], t_eval = np.arange(0, size, 1), vectorized = True)\n",
        "  \n",
        "  l0 = np.sqrt(np.mean((solution.y[0]-data['SIRD_Suspectible'])**2))\n",
        "  l1 = np.sqrt(np.mean((solution.y[1]-data['SIRD_Infected'])**2))\n",
        "  l2 = np.sqrt(np.mean((solution.y[2]-data['SIRD_Recovered'])**2))\n",
        "  l3 = np.sqrt(np.mean((solution.y[3]-data['SIRD_Death'])**2))\n",
        "\n",
        "  return 0.25*l0 + 0.25*l1 + 0.25*l2 + 0.25*l3"
      ],
      "execution_count": null,
      "outputs": []
    },
    {
      "cell_type": "markdown",
      "metadata": {
        "id": "MTHRZeaHtG5f",
        "colab_type": "text"
      },
      "source": [
        "**6. Train and predict SIRD**"
      ]
    },
    {
      "cell_type": "code",
      "metadata": {
        "id": "9IBMfZt-KTdI",
        "colab_type": "code",
        "colab": {}
      },
      "source": [
        "def trainSIRD(country_data, population, S0, I0, R0, D0):\n",
        "  optimal = minimize(RMSE, [0.0001, 0.0001, 0.0001], args = (country_data, S0, I0, R0, D0, population), method = 'L-BFGS-B', bounds= [(0.000001, 0.4), (0.000001, 0.4), (0.000001, 0.4)] )\n",
        "  beta, gamma, mu = optimal.x\n",
        "  return beta, gamma, mu"
      ],
      "execution_count": null,
      "outputs": []
    },
    {
      "cell_type": "code",
      "metadata": {
        "id": "ggdM0aXDKYBt",
        "colab_type": "code",
        "colab": {}
      },
      "source": [
        "def train_test_split_df(data, trainSize):\n",
        "  num_rows = data.shape[0] \n",
        "  num_train_rows = num_rows*trainSize//100\n",
        "  num_test_rows = num_rows - num_train_rows\n",
        "\n",
        "  train_data = data.iloc[ :num_train_rows, :]\n",
        "  test_data = data.iloc[num_train_rows:, :]\n",
        "  return train_data, test_data"
      ],
      "execution_count": null,
      "outputs": []
    },
    {
      "cell_type": "code",
      "metadata": {
        "id": "mA1872XQKati",
        "colab_type": "code",
        "colab": {}
      },
      "source": [
        "def predictSIRD(data, beta, gamma, mu, S0, I0, R0, D0, pop):\n",
        "  time = data.shape[0]\n",
        "  t = np.linspace(1,time,10000)\n",
        "  solution = odeint(SIRD_model, [S0, I0, R0, D0], t, args= (beta, gamma, mu, pop))\n",
        "  solution = np.array(solution)\n",
        "  return solution"
      ],
      "execution_count": null,
      "outputs": []
    },
    {
      "cell_type": "markdown",
      "metadata": {
        "id": "1YWLskHPssIa",
        "colab_type": "text"
      },
      "source": [
        "**7. Implementation**"
      ]
    },
    {
      "cell_type": "code",
      "metadata": {
        "id": "_xmVxmsxKfqg",
        "colab_type": "code",
        "colab": {
          "base_uri": "https://localhost:8080/",
          "height": 34
        },
        "outputId": "986ed969-de68-499b-86f9-f591293e8892"
      },
      "source": [
        "SIRD_init = list(SIRD_df.iloc[2, :])\n",
        "print(SIRD_init)\n",
        "S0 = SIRD_init[0]\n",
        "I0 = SIRD_init[1]\n",
        "R0 = SIRD_init[2]\n",
        "D0 = SIRD_init[3]"
      ],
      "execution_count": null,
      "outputs": [
        {
          "output_type": "stream",
          "text": [
            "[331002649, 2, 0, 0]\n"
          ],
          "name": "stdout"
        }
      ]
    },
    {
      "cell_type": "code",
      "metadata": {
        "id": "AuVatPiAKjkT",
        "colab_type": "code",
        "colab": {
          "base_uri": "https://localhost:8080/",
          "height": 67
        },
        "outputId": "df386da5-498a-4945-b777-58206f3bb75d"
      },
      "source": [
        "train_data, test_data = train_test_split_df(SIRD_df, 99)\n",
        "Beta, Gamma, Mu = trainSIRD(train_data, population, S0, I0, R0, D0)\n",
        "print('Beta = ',Beta)\n",
        "print('Gamma = ',Gamma)\n",
        "print('Mu = ', Mu)"
      ],
      "execution_count": null,
      "outputs": [
        {
          "output_type": "stream",
          "text": [
            "Beta =  0.11995893364421482\n",
            "Gamma =  0.03804067192756672\n",
            "Mu =  0.004789802899428518\n"
          ],
          "name": "stdout"
        }
      ]
    },
    {
      "cell_type": "markdown",
      "metadata": {
        "id": "xyqtCcfttDqK",
        "colab_type": "text"
      },
      "source": [
        "**8. Plot the result of S,I,R,D Comparision**"
      ]
    },
    {
      "cell_type": "code",
      "metadata": {
        "id": "jCtqWSHPblVS",
        "colab_type": "code",
        "colab": {
          "base_uri": "https://localhost:8080/",
          "height": 305
        },
        "outputId": "5ae0b422-5bd3-4d5d-a734-9a83fa324d5f"
      },
      "source": [
        "solution = predictSIRD(SIRD_df, Beta, Gamma, Mu , S0, I0, R0, D0, population)\n",
        "time = SIRD_df.shape[0]\n",
        "t = np.linspace(1,time,10000)\n",
        "x_val = [0, 40, 80, 120, 160, 200]\n",
        "plt.plot(t, solution[:, 0], '--', label ='S(t)', color = 'blue')\n",
        "plt.plot(SIRD_df['SIRD_Suspectible'], label='Suspectible', color= 'blue')\n",
        "\n",
        "plt.title(location + \" Suspectible Comparision\", size =20, color = 'red')\n",
        "plt.xticks(x_val)\n",
        "plt.xlabel(\"Dates\", size =16)\n",
        "plt.ylabel(\"Number of people\", size=16)\n",
        "plt.legend(prop = {'size':10}, loc='upper right', fancybox=True, shadow=True, bbox_to_anchor=(1.5, 1))\n",
        "plt.show()"
      ],
      "execution_count": null,
      "outputs": [
        {
          "output_type": "display_data",
          "data": {
            "image/png": "[encoded data removed]",
            "text/plain": [
              "<Figure size 432x288 with 1 Axes>"
            ]
          },
          "metadata": {
            "tags": [],
            "needs_background": "light"
          }
        }
      ]
    },
    {
      "cell_type": "code",
      "metadata": {
        "id": "Ytp32661by6Z",
        "colab_type": "code",
        "colab": {
          "base_uri": "https://localhost:8080/",
          "height": 305
        },
        "outputId": "2c33abf6-76e8-47f4-ebad-3a7d73c39dd0"
      },
      "source": [
        "plt.plot(t, solution[:, 1], '--', label ='I(t)', color = 'red')\n",
        "plt.plot(SIRD_df['SIRD_Infected'], label='Infected', color= 'red')\n",
        "\n",
        "\n",
        "plt.title(location + \" Infected Comparision\", size =20, color = 'red')\n",
        "plt.xticks(x_val)\n",
        "plt.xlabel(\"Dates\", size =16)\n",
        "plt.ylabel(\"Number of people\", size=16)\n",
        "plt.legend(prop = {'size':10}, loc='upper right', fancybox=True, shadow=True, bbox_to_anchor=(1.5, 1))\n",
        "plt.show()"
      ],
      "execution_count": null,
      "outputs": [
        {
          "output_type": "display_data",
          "data": {
            "image/png": "[encoded data removed]",
            "text/plain": [
              "<Figure size 432x288 with 1 Axes>"
            ]
          },
          "metadata": {
            "tags": [],
            "needs_background": "light"
          }
        }
      ]
    },
    {
      "cell_type": "code",
      "metadata": {
        "id": "0WQfiw3Yb3o6",
        "colab_type": "code",
        "colab": {
          "base_uri": "https://localhost:8080/",
          "height": 305
        },
        "outputId": "c969dd38-8a70-4914-ce9d-7238e7e57517"
      },
      "source": [
        "plt.plot(t, solution[:, 2], '--', label ='R(t)', color = 'green')\n",
        "plt.plot(SIRD_df['SIRD_Recovered'], label='Recovered', color= 'green')\n",
        "\n",
        "plt.title(location + \" Recovered Comparision\", size =20, color = 'red')\n",
        "plt.xticks(x_val)\n",
        "plt.xlabel(\"Dates\", size =16)\n",
        "plt.ylabel(\"Number of people\", size=16)\n",
        "plt.legend(prop = {'size':10}, loc='upper right', fancybox=True, shadow=True, bbox_to_anchor=(1.5, 1))\n",
        "plt.show()"
      ],
      "execution_count": null,
      "outputs": [
        {
          "output_type": "display_data",
          "data": {
            "image/png": "[encoded data removed]",
            "text/plain": [
              "<Figure size 432x288 with 1 Axes>"
            ]
          },
          "metadata": {
            "tags": [],
            "needs_background": "light"
          }
        }
      ]
    },
    {
      "cell_type": "code",
      "metadata": {
        "id": "tlccuMmwcM_9",
        "colab_type": "code",
        "colab": {
          "base_uri": "https://localhost:8080/",
          "height": 305
        },
        "outputId": "0a322941-83c3-401c-9117-df936d166b00"
      },
      "source": [
        "plt.plot(t, solution[:, 3], '--', label ='D(t)', color = 'orange')\n",
        "plt.plot(SIRD_df['SIRD_Death'], label='Death', color= 'orange')\n",
        "\n",
        "plt.title(location + \" Death Comparision\", size =20, color = 'red')\n",
        "plt.xticks(x_val)\n",
        "plt.xlabel(\"Dates\", size =16)\n",
        "plt.ylabel(\"Number of people\", size=16)\n",
        "plt.legend(prop = {'size':10}, loc='upper right', fancybox=True, shadow=True, bbox_to_anchor=(1.5, 1))\n",
        "plt.show()"
      ],
      "execution_count": null,
      "outputs": [
        {
          "output_type": "display_data",
          "data": {
            "image/png": "[encoded data removed]",
            "text/plain": [
              "<Figure size 432x288 with 1 Axes>"
            ]
          },
          "metadata": {
            "tags": [],
            "needs_background": "light"
          }
        }
      ]
    },
    {
      "cell_type": "markdown",
      "metadata": {
        "id": "nk5J5YjUzhw-",
        "colab_type": "text"
      },
      "source": [
        "**9. Build Neural Network**"
      ]
    },
    {
      "cell_type": "code",
      "metadata": {
        "id": "Hz995M-0cQfl",
        "colab_type": "code",
        "colab": {
          "base_uri": "https://localhost:8080/",
          "height": 34
        },
        "outputId": "dfe0ea3d-f956-4a17-8162-ff42d521ab07"
      },
      "source": [
        "I_arr=np.array(SIRD_df[\"SIRD_Infected\"])\n",
        "R_arr=np.array(SIRD_df['SIRD_Recovered'])\n",
        "D_arr=np.array(SIRD_df['SIRD_Death'])\n",
        "X=np.stack([I_arr, R_arr, D_arr], axis=1)\n",
        "X=np.delete(X, [0,1], axis=0)\n",
        "print(X.shape)"
      ],
      "execution_count": null,
      "outputs": [
        {
          "output_type": "stream",
          "text": [
            "(191, 3)\n"
          ],
          "name": "stdout"
        }
      ]
    },
    {
      "cell_type": "code",
      "metadata": {
        "id": "NC8jF-1ccgfm",
        "colab_type": "code",
        "colab": {
          "base_uri": "https://localhost:8080/",
          "height": 34
        },
        "outputId": "30316670-1a0b-47ab-e858-9b98fb6fe460"
      },
      "source": [
        "X_train, X_test =train_test_split(X, train_size=0.9, shuffle= False )\n",
        "print(X_train.shape, X_test.shape)"
      ],
      "execution_count": null,
      "outputs": [
        {
          "output_type": "stream",
          "text": [
            "(171, 3) (20, 3)\n"
          ],
          "name": "stdout"
        }
      ]
    },
    {
      "cell_type": "code",
      "metadata": {
        "id": "kknhdepDcrww",
        "colab_type": "code",
        "colab": {
          "base_uri": "https://localhost:8080/",
          "height": 34
        },
        "outputId": "26369fc6-72f6-4ab4-c6dc-658d04aac675"
      },
      "source": [
        "X_test=np.vstack([X_train, X_test[0]])\n",
        "print(X_test.shape)"
      ],
      "execution_count": null,
      "outputs": [
        {
          "output_type": "stream",
          "text": [
            "(172, 3)\n"
          ],
          "name": "stdout"
        }
      ]
    },
    {
      "cell_type": "code",
      "metadata": {
        "id": "U9GGQ6_1czB-",
        "colab_type": "code",
        "colab": {}
      },
      "source": [
        "class NeuralNetwork:\n",
        "    def __init__(self, x, y, population):\n",
        "        self.x = x\n",
        "        self.y = y\n",
        "        self.population = population\n",
        "\n",
        "    def predict(self,test):\n",
        "        self.cal_const()\n",
        "        scaler_x = MinMaxScaler()\n",
        "        scaler_y = MinMaxScaler()\n",
        "        scaler_x.fit(self.x)\n",
        "        xscale=scaler_x.transform(self.x)\n",
        "        scaler_y.fit(self.out)\n",
        "        yscale=scaler_y.transform(self.out)\n",
        "       \n",
        "        model = Sequential()\n",
        "        model.add(Dense(8,activation='sigmoid',input_dim=3))\n",
        "        model.add(Dense(3,activation='sigmoid'))\n",
        "     \n",
        "        model.compile(loss='mse', optimizer='adam', metrics=['accuracy'])\n",
        "        model.summary()\n",
        "        \n",
        "\n",
        "        history = model.fit(xscale, yscale, epochs=2000, batch_size=1, verbose=0, validation_split=0.2)\n",
        "        \n",
        "        #self.plot_history(history)\n",
        "\n",
        "        print(model.evaluate(self.x, self.out))\n",
        "\n",
        "        scaler_test = MinMaxScaler()\n",
        "        scaler_test.fit(test)\n",
        "        test_scale = scaler_test.transform(test)\n",
        "        y_predict= model.predict(test_scale)\n",
        "        y_predict = scaler_y.inverse_transform(y_predict)\n",
        "        return y_predict\n",
        "\n",
        "    def cal_const(self):\n",
        "        out = []\n",
        "        for i in range(self.y.shape[0]):\n",
        "          if(i<self.y.shape[0]-1):\n",
        "            #self.x[i][0]:I\n",
        "            #self.x[i][1]:R\n",
        "            #self.x[i][2]:D\n",
        "            if (self.y[i][2] != 0):\n",
        "              mu = (self.y[i+1][2] - self.y[i][2])/self.y[i][2]\n",
        "            else: \n",
        "              mu = Mu\n",
        "            if (self.x[i][1] != 0):\n",
        "              gama = (self.y[i+1][1] - self.y[i][1])/self.y[i][1]\n",
        "            else:\n",
        "              gamma = Gamma\n",
        "            if (self.y[i][1] !=0):\n",
        "              Si = self.population-(self.y[i][0] + self.y[i][1] + self.y[i][2])\n",
        "              Si_1 = self.population-(self.y[i+1][0] + self.y[i+1][1] + self.y[i+1][2])\n",
        "              beta = ((Si - Si_1)/(Si*self.y[i][0]))*self.population\n",
        "            else: \n",
        "              beta = Beta\n",
        "            out.append([beta, gamma, mu])\n",
        "        self.out = np.array(out)\n",
        "    def plot_history(self, history):\n",
        "      \n",
        "      # Render the loss.\n",
        "      plt.plot(history.history['loss'])\n",
        "      plt.plot(history.history['val_loss'])\n",
        "      plt.title('model loss')\n",
        "      plt.ylabel('loss')\n",
        "      plt.xlabel('epoch')\n",
        "      plt.legend(['train', 'test'], loc='upper left')\n",
        "      plt.show()\n",
        "      plt.clf()\n"
      ],
      "execution_count": null,
      "outputs": []
    },
    {
      "cell_type": "code",
      "metadata": {
        "id": "D5-nolnOc3ar",
        "colab_type": "code",
        "colab": {
          "base_uri": "https://localhost:8080/",
          "height": 253
        },
        "outputId": "30250c5f-82d4-48f2-d14f-7c2071d834ae"
      },
      "source": [
        "neuron = NeuralNetwork(X_train, X_test, population)\n",
        "predict_alpha = neuron.predict(X)\n"
      ],
      "execution_count": null,
      "outputs": [
        {
          "output_type": "stream",
          "text": [
            "Model: \"sequential_6\"\n",
            "_________________________________________________________________\n",
            "Layer (type)                 Output Shape              Param #   \n",
            "=================================================================\n",
            "dense_11 (Dense)             (None, 8)                 32        \n",
            "_________________________________________________________________\n",
            "dense_12 (Dense)             (None, 3)                 27        \n",
            "=================================================================\n",
            "Total params: 59\n",
            "Trainable params: 59\n",
            "Non-trainable params: 0\n",
            "_________________________________________________________________\n",
            "171/171 [==============================] - 0s 44us/step\n",
            "[0.08905506489848805, 0.32163742184638977]\n"
          ],
          "name": "stdout"
        }
      ]
    },
    {
      "cell_type": "code",
      "metadata": {
        "id": "xpZGxKtCc9Fn",
        "colab_type": "code",
        "colab": {
          "base_uri": "https://localhost:8080/",
          "height": 1000
        },
        "outputId": "ed5a5556-ff50-4241-e568-ba8571ae67ec"
      },
      "source": [
        "print(predict_alpha)"
      ],
      "execution_count": null,
      "outputs": [
        {
          "output_type": "stream",
          "text": [
            "[[0.22583707 0.03806055 0.18550903]\n",
            " [0.22583707 0.03806055 0.18550903]\n",
            " [0.22583804 0.03806055 0.18551126]\n",
            " [0.22583804 0.03806055 0.18551126]\n",
            " [0.22583804 0.03806055 0.18551126]\n",
            " [0.22583804 0.03806055 0.18551126]\n",
            " [0.22583804 0.03806055 0.18551126]\n",
            " [0.22583866 0.03806055 0.1855129 ]\n",
            " [0.22583894 0.03806055 0.1855138 ]\n",
            " [0.22583894 0.03806055 0.1855138 ]\n",
            " [0.22583988 0.03806055 0.18551618]\n",
            " [0.22583988 0.03806055 0.18551618]\n",
            " [0.22583988 0.03806055 0.18551618]\n",
            " [0.22583988 0.03806055 0.18551618]\n",
            " [0.22583988 0.03806055 0.18551618]\n",
            " [0.22583988 0.03806055 0.18551618]\n",
            " [0.22582623 0.03806055 0.18549994]\n",
            " [0.22582623 0.03806055 0.18549994]\n",
            " [0.22582655 0.03806055 0.18550068]\n",
            " [0.22582655 0.03806055 0.18550068]\n",
            " [0.22582686 0.03806055 0.18550158]\n",
            " [0.22582686 0.03806055 0.18550158]\n",
            " [0.22582686 0.03806055 0.18550158]\n",
            " [0.22582686 0.03806055 0.18550158]\n",
            " [0.22582686 0.03806055 0.18550158]\n",
            " [0.22582686 0.03806055 0.18550158]\n",
            " [0.22582686 0.03806055 0.18550158]\n",
            " [0.22582686 0.03806055 0.18550158]\n",
            " [0.22581844 0.03806055 0.18549219]\n",
            " [0.22581844 0.03806055 0.18549219]\n",
            " [0.22581841 0.03806055 0.18549219]\n",
            " [0.22581841 0.03806055 0.18549219]\n",
            " [0.2258139  0.03806055 0.18548667]\n",
            " [0.2258139  0.03806055 0.18548667]\n",
            " [0.22581418 0.03806055 0.18548742]\n",
            " [0.22580962 0.03806055 0.18548235]\n",
            " [0.22579685 0.03806055 0.18547088]\n",
            " [0.22579865 0.03806055 0.18547565]\n",
            " [0.22572955 0.03806054 0.18540546]\n",
            " [0.22572039 0.03806054 0.18540353]\n",
            " [0.22566895 0.03806053 0.18535793]\n",
            " [0.22567506 0.03806053 0.18539548]\n",
            " [0.22565919 0.03806054 0.18539831]\n",
            " [0.22564854 0.03806054 0.1854369 ]\n",
            " [0.22562237 0.03806055 0.18545642]\n",
            " [0.2256278  0.03806055 0.18549293]\n",
            " [0.22559047 0.03806056 0.18553406]\n",
            " [0.22563545 0.03806059 0.18576205]\n",
            " [0.22560264 0.03806062 0.18592268]\n",
            " [0.22564696 0.03806067 0.1862374 ]\n",
            " [0.22577246 0.03806074 0.18669903]\n",
            " [0.22561963 0.03806072 0.18656388]\n",
            " [0.22560906 0.03806081 0.18716648]\n",
            " [0.2256325  0.03806094 0.18798336]\n",
            " [0.22520927 0.03806107 0.1887016 ]\n",
            " [0.225551   0.0380615  0.19143641]\n",
            " [0.22556439 0.03806189 0.19383088]\n",
            " [0.2259124  0.03806241 0.19710436]\n",
            " [0.2260762  0.03806303 0.20090103]\n",
            " [0.22630066 0.03806383 0.20578235]\n",
            " [0.22497885 0.03806436 0.20876735]\n",
            " [0.22371155 0.03806503 0.21257743]\n",
            " [0.2213114  0.03806595 0.21755725]\n",
            " [0.21744846 0.03806654 0.22046998]\n",
            " [0.21283923 0.03806704 0.22277668]\n",
            " [0.20254801 0.03806624 0.21632448]\n",
            " [0.18560238 0.03806407 0.20074934]\n",
            " [0.17192152 0.03806258 0.1906164 ]\n",
            " [0.1588818  0.03806102 0.18013835]\n",
            " [0.14731367 0.03805974 0.17214656]\n",
            " [0.13901754 0.03805914 0.16828373]\n",
            " [0.12193644 0.03805657 0.14999464]\n",
            " [0.11020309 0.03805472 0.13731554]\n",
            " [0.1002829  0.03805314 0.1267071 ]\n",
            " [0.08904228 0.0380511  0.11281788]\n",
            " [0.08126035 0.03804981 0.10378599]\n",
            " [0.07517546 0.03804887 0.09718344]\n",
            " [0.06871746 0.03804783 0.08899048]\n",
            " [0.06408152 0.03804706 0.08297741]\n",
            " [0.06117445 0.03804663 0.07962137]\n",
            " [0.05382695 0.0380454  0.06730497]\n",
            " [0.05037073 0.03804479 0.06160542]\n",
            " [0.04758097 0.0380443  0.0568983 ]\n",
            " [0.04631438 0.03804412 0.05531147]\n",
            " [0.04466748 0.03804383 0.05253077]\n",
            " [0.04268468 0.03804349 0.04864186]\n",
            " [0.04165844 0.03804338 0.04711822]\n",
            " [0.04135537 0.03804334 0.04685298]\n",
            " [0.04061483 0.03804316 0.04508227]\n",
            " [0.04023403 0.03804306 0.04419655]\n",
            " [0.03996963 0.038043   0.04374459]\n",
            " [0.03694706 0.03804258 0.03709316]\n",
            " [0.03730768 0.03804265 0.03829852]\n",
            " [0.03666908 0.03804259 0.03714904]\n",
            " [0.03624444 0.03804252 0.0362128 ]\n",
            " [0.03570331 0.0380424  0.03464967]\n",
            " [0.03516763 0.03804228 0.03306001]\n",
            " [0.03037385 0.03804169 0.02247483]\n",
            " [0.02952482 0.03804161 0.02090037]\n",
            " [0.02847582 0.03804151 0.0189878 ]\n",
            " [0.0283158  0.03804151 0.01886159]\n",
            " [0.02775925 0.03804146 0.01786128]\n",
            " [0.02764057 0.03804142 0.01738608]\n",
            " [0.02783225 0.03804141 0.01744583]\n",
            " [0.02756174 0.03804138 0.01690641]\n",
            " [0.02745313 0.03804136 0.01670137]\n",
            " [0.02625589 0.03804127 0.01471117]\n",
            " [0.02615977 0.03804127 0.01464516]\n",
            " [0.02473247 0.03804118 0.01248226]\n",
            " [0.02518705 0.0380412  0.01309156]\n",
            " [0.0241574  0.03804113 0.01150563]\n",
            " [0.02417591 0.03804112 0.01150757]\n",
            " [0.02405428 0.03804111 0.01131415]\n",
            " [0.02296288 0.03804106 0.00998065]\n",
            " [0.02288209 0.03804106 0.00995189]\n",
            " [0.02237775 0.03804105 0.00945657]\n",
            " [0.02213837 0.03804103 0.00913575]\n",
            " [0.02201832 0.03804103 0.00898048]\n",
            " [0.02197748 0.03804103 0.00897899]\n",
            " [0.02003627 0.03804098 0.00736356]\n",
            " [0.01981708 0.03804098 0.00725999]\n",
            " [0.01973823 0.03804099 0.00727564]\n",
            " [0.01949953 0.038041   0.00722438]\n",
            " [0.01942045 0.038041   0.00722736]\n",
            " [0.01934527 0.038041   0.00716299]\n",
            " [0.01923688 0.038041   0.00714108]\n",
            " [0.01917082 0.038041   0.00714168]\n",
            " [0.01904078 0.03804101 0.00714675]\n",
            " [0.0186443  0.03804104 0.00717208]\n",
            " [0.01849631 0.03804105 0.0072068 ]\n",
            " [0.01845643 0.03804106 0.0072214 ]\n",
            " [0.018308   0.03804107 0.00727251]\n",
            " [0.01826939 0.03804108 0.00729278]\n",
            " [0.01821727 0.03804109 0.0073278 ]\n",
            " [0.0181328  0.0380411  0.00738338]\n",
            " [0.01808136 0.03804111 0.00742361]\n",
            " [0.0179706  0.03804113 0.00749364]\n",
            " [0.01793165 0.03804113 0.00751689]\n",
            " [0.01787015 0.03804114 0.00755951]\n",
            " [0.01782298 0.03804115 0.00759751]\n",
            " [0.01776979 0.03804116 0.00764489]\n",
            " [0.01769754 0.03804118 0.00770718]\n",
            " [0.01764834 0.03804119 0.0077571 ]\n",
            " [0.01753209 0.03804122 0.00785545]\n",
            " [0.01748583 0.03804123 0.00789925]\n",
            " [0.01742507 0.03804125 0.00795811]\n",
            " [0.01737453 0.03804126 0.00801176]\n",
            " [0.0173163  0.03804128 0.00807539]\n",
            " [0.01723595 0.0380413  0.00816047]\n",
            " [0.01719155 0.03804132 0.00821501]\n",
            " [0.0170677  0.03804136 0.00834242]\n",
            " [0.0170205  0.03804138 0.00839904]\n",
            " [0.0169655  0.03804139 0.00846371]\n",
            " [0.01695868 0.03804139 0.00846773]\n",
            " [0.0169016  0.03804142 0.00854224]\n",
            " [0.01683913 0.03804144 0.00862241]\n",
            " [0.01678872 0.03804146 0.00869215]\n",
            " [0.0166749  0.03804151 0.00882268]\n",
            " [0.01659511 0.03804155 0.00892028]\n",
            " [0.01654115 0.03804157 0.00899479]\n",
            " [0.01634065 0.03804167 0.00923336]\n",
            " [0.01630058 0.03804169 0.00929192]\n",
            " [0.01604463 0.03804184 0.00963539]\n",
            " [0.0160112  0.03804186 0.00968486]\n",
            " [0.01597471 0.03804188 0.0097397 ]\n",
            " [0.01595162 0.0380419  0.00977457]\n",
            " [0.01592187 0.03804192 0.00981972]\n",
            " [0.01589657 0.03804194 0.00985801]\n",
            " [0.01587351 0.03804195 0.00989392]\n",
            " [0.0158546  0.03804197 0.00992283]\n",
            " [0.01583775 0.03804198 0.00994995]\n",
            " [0.01581017 0.038042   0.00999182]\n",
            " [0.01579325 0.03804201 0.01001835]\n",
            " [0.0157725  0.03804203 0.01005054]\n",
            " [0.01575998 0.03804204 0.01007035]\n",
            " [0.01574823 0.03804205 0.01008898]\n",
            " [0.0157386  0.03804205 0.01010418]\n",
            " [0.0157319  0.03804206 0.01011521]\n",
            " [0.01571866 0.03804207 0.01013562]\n",
            " [0.01571031 0.03804208 0.01014829]\n",
            " [0.01570109 0.03804208 0.01016274]\n",
            " [0.01569464 0.03804209 0.01017332]\n",
            " [0.01568772 0.03804209 0.01018375]\n",
            " [0.01568361 0.0380421  0.01019076]\n",
            " [0.01567972 0.0380421  0.01019672]\n",
            " [0.01567548 0.03804211 0.01020342]\n",
            " [0.01567168 0.03804211 0.01020968]\n",
            " [0.01566791 0.03804211 0.01021579]\n",
            " [0.01566554 0.03804211 0.01021937]\n",
            " [0.01566342 0.03804211 0.01022257]\n",
            " [0.01566174 0.03804212 0.01022532]]\n"
          ],
          "name": "stdout"
        }
      ]
    },
    {
      "cell_type": "code",
      "metadata": {
        "id": "SUDMSm1xd7nR",
        "colab_type": "code",
        "colab": {
          "base_uri": "https://localhost:8080/",
          "height": 54
        },
        "outputId": "ca9b47ca-19a8-44d9-822f-1ba7f386cc36"
      },
      "source": [
        "R0=[]\n",
        "for i in range(predict_alpha.shape[0]):\n",
        "  R_0 = predict_alpha[i, 0]/(predict_alpha[i, 1]+ predict_alpha[i, 2])\n",
        "  R0.append(R_0)\n",
        "\n",
        "print(R0)"
      ],
      "execution_count": null,
      "outputs": [
        {
          "output_type": "stream",
          "text": [
            "[1.0101422, 1.0101422, 1.0101365, 1.0101365, 1.0101365, 1.0101365, 1.0101365, 1.0101318, 1.0101291, 1.0101291, 1.0101225, 1.0101225, 1.0101225, 1.0101225, 1.0101225, 1.0101225, 1.0101348, 1.0101348, 1.0101329, 1.0101329, 1.0101303, 1.0101303, 1.0101303, 1.0101303, 1.0101303, 1.0101303, 1.0101303, 1.0101303, 1.010135, 1.010135, 1.0101348, 1.0101348, 1.0101396, 1.0101396, 1.0101374, 1.01014, 1.0101347, 1.0101212, 1.0101292, 1.010097, 1.010073, 1.0099306, 1.0098467, 1.0096246, 1.0094194, 1.0092789, 1.0089262, 1.0080993, 1.0072297, 1.0060139, 1.0045056, 1.0044297, 1.001695, 0.9981782, 0.99314964, 0.982802, 0.9727099, 0.96064764, 0.9460678, 0.92804676, 0.91146654, 0.8925525, 0.865772, 0.84107447, 0.8159645, 0.7962083, 0.7771858, 0.7518029, 0.72814965, 0.7008052, 0.673721, 0.6484214, 0.6284024, 0.60865957, 0.590196, 0.57291853, 0.5558986, 0.5409192, 0.52949226, 0.51989025, 0.5109327, 0.50547546, 0.50115514, 0.49610716, 0.49315688, 0.4924094, 0.48916927, 0.48712802, 0.48859692, 0.4892294, 0.48870045, 0.4917375, 0.4886967, 0.48767504, 0.48810565, 0.49115822, 0.4946061, 0.50191003, 0.50091326, 0.49931905, 0.4976144, 0.49656332, 0.4986797, 0.5015972, 0.5015987, 0.5014936, 0.49771896, 0.4965182, 0.48952472, 0.49258143, 0.4875678, 0.4879223, 0.48736998, 0.47817698, 0.4767802, 0.4711341, 0.4692641, 0.46826068, 0.4674068, 0.44128346, 0.4374538, 0.43556252, 0.43078247, 0.42900723, 0.42795503, 0.4257634, 0.42429584, 0.42137027, 0.41236493, 0.40877762, 0.4077646, 0.40402883, 0.40299666, 0.40153658, 0.3991857, 0.3977009, 0.39465654, 0.39360026, 0.39188358, 0.39052364, 0.38895434, 0.38684523, 0.3853493, 0.38199058, 0.38061908, 0.37881106, 0.3772724, 0.375489, 0.37305808, 0.37165827, 0.36796704, 0.3665018, 0.36480948, 0.3646312, 0.36282253, 0.36086026, 0.35924295, 0.3558133, 0.3533744, 0.3516672, 0.34565082, 0.3443765, 0.33652604, 0.33547658, 0.33432782, 0.3336011, 0.33266452, 0.3318703, 0.33114058, 0.3305466, 0.3300085, 0.32914662, 0.32861286, 0.3279614, 0.32756585, 0.327195, 0.32689172, 0.32667768, 0.32626435, 0.32600528, 0.32571617, 0.32551086, 0.32529703, 0.3251645, 0.32504356, 0.32491052, 0.32478958, 0.32467034, 0.32459718, 0.32453176, 0.3244784]\n"
          ],
          "name": "stdout"
        }
      ]
    },
    {
      "cell_type": "markdown",
      "metadata": {
        "id": "78DYsQu_1BSX",
        "colab_type": "text"
      },
      "source": [
        "**10. Plot the result of Beta, Gamma, Mu, R0**"
      ]
    },
    {
      "cell_type": "code",
      "metadata": {
        "id": "5SO84L-bd_Jk",
        "colab_type": "code",
        "colab": {
          "base_uri": "https://localhost:8080/",
          "height": 305
        },
        "outputId": "31e0bd7b-137f-476d-c4bf-8fabd7501ed5"
      },
      "source": [
        "plt.plot(predict_alpha[:,0], label='beta', color= 'green')\n",
        "plt.plot(predict_alpha[:,1], label='gamma', color= 'blue')\n",
        "plt.plot(predict_alpha[:,2], label='mu', color= 'gold')\n",
        "plt.grid()\n",
        "plt.title(\"Prediction after training\", size =20)\n",
        "plt.xlabel(\"Dates\", size =16)\n",
        "plt.ylabel(\"Value\", size=16)\n",
        "plt.legend(prop = {'size':12}, loc='upper right', fancybox=True, shadow=True, bbox_to_anchor=(1.5, 1))\n",
        "plt.show()"
      ],
      "execution_count": null,
      "outputs": [
        {
          "output_type": "display_data",
          "data": {
            "image/png": "[encoded data removed]",
            "text/plain": [
              "<Figure size 432x288 with 1 Axes>"
            ]
          },
          "metadata": {
            "tags": [],
            "needs_background": "light"
          }
        }
      ]
    },
    {
      "cell_type": "code",
      "metadata": {
        "id": "WZKnsDpseM5b",
        "colab_type": "code",
        "colab": {
          "base_uri": "https://localhost:8080/",
          "height": 305
        },
        "outputId": "8c545c8b-629a-4ac0-b24e-e7cfebe67550"
      },
      "source": [
        "plt.plot(R0, label='R0', color= 'red')\n",
        "plt.title(\"R0 prediction after training\", size =20)\n",
        "plt.grid()\n",
        "plt.xlabel(\"Dates\", size =16)\n",
        "plt.ylabel(\"Value\", size=16)\n",
        "plt.legend(prop = {'size':12}, loc='upper right', fancybox=True, shadow=True, bbox_to_anchor=(1.3, 1))\n",
        "plt.show()"
      ],
      "execution_count": null,
      "outputs": [
        {
          "output_type": "display_data",
          "data": {
            "image/png": "[encoded data removed]",
            "text/plain": [
              "<Figure size 432x288 with 1 Axes>"
            ]
          },
          "metadata": {
            "tags": [],
            "needs_background": "light"
          }
        }
      ]
    },
    {
      "cell_type": "code",
      "metadata": {
        "id": "FAlsOXaWhkeW",
        "colab_type": "code",
        "colab": {
          "base_uri": "https://localhost:8080/",
          "height": 305
        },
        "outputId": "aa06678a-1106-494c-ecc5-5ba3b393ea1e"
      },
      "source": [
        "plt.plot(predict_alpha[:,0], label='beta', color= 'green')\n",
        "plt.grid()\n",
        "plt.title(\"Beta prediction after training\", size =20)\n",
        "plt.xlabel(\"Dates\", size =16)\n",
        "plt.ylabel(\"Value\", size=16)\n",
        "plt.legend(prop = {'size':12}, loc='upper right', fancybox=True, shadow=True, bbox_to_anchor=(1.3, 1))\n",
        "plt.show()"
      ],
      "execution_count": null,
      "outputs": [
        {
          "output_type": "display_data",
          "data": {
            "image/png": "[encoded data removed]",
            "text/plain": [
              "<Figure size 432x288 with 1 Axes>"
            ]
          },
          "metadata": {
            "tags": [],
            "needs_background": "light"
          }
        }
      ]
    },
    {
      "cell_type": "code",
      "metadata": {
        "id": "0-Q4RVYxhpKn",
        "colab_type": "code",
        "colab": {
          "base_uri": "https://localhost:8080/",
          "height": 305
        },
        "outputId": "fa8d0efc-da48-4888-e407-01aeae8be149"
      },
      "source": [
        "plt.plot(predict_alpha[:,1], label='gamma', color= 'blue')\n",
        "plt.grid()\n",
        "plt.title(\"Gamma prediction after training\", size =20)\n",
        "plt.xlabel(\"Dates\", size =16)\n",
        "plt.ylabel(\"Value\", size=16)\n",
        "plt.legend(prop = {'size':12}, loc='upper right', fancybox=True, shadow=True, bbox_to_anchor=(1.3, 1))\n",
        "plt.show()"
      ],
      "execution_count": null,
      "outputs": [
        {
          "output_type": "display_data",
          "data": {
            "image/png": "[encoded data removed]",
            "text/plain": [
              "<Figure size 432x288 with 1 Axes>"
            ]
          },
          "metadata": {
            "tags": [],
            "needs_background": "light"
          }
        }
      ]
    },
    {
      "cell_type": "code",
      "metadata": {
        "id": "FQznUINchtmF",
        "colab_type": "code",
        "colab": {
          "base_uri": "https://localhost:8080/",
          "height": 305
        },
        "outputId": "bf0647d6-922a-4620-e236-28ff02325516"
      },
      "source": [
        "plt.plot(predict_alpha[:,2], label='mu', color= 'gold')\n",
        "plt.grid()\n",
        "plt.title(\"Mu prediction after training\", size =20)\n",
        "plt.xlabel(\"Dates\", size =16)\n",
        "plt.ylabel(\"Value\", size=16)\n",
        "plt.legend(prop = {'size':12}, loc='upper right', fancybox=True, shadow=True, bbox_to_anchor=(1.3, 1))\n",
        "plt.show()"
      ],
      "execution_count": null,
      "outputs": [
        {
          "output_type": "display_data",
          "data": {
            "image/png": "[encoded data removed]",
            "text/plain": [
              "<Figure size 432x288 with 1 Axes>"
            ]
          },
          "metadata": {
            "tags": [],
            "needs_background": "light"
          }
        }
      ]
    }
  ]
}